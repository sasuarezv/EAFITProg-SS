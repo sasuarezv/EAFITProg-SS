{
  "nbformat": 4,
  "nbformat_minor": 0,
  "metadata": {
    "colab": {
      "provenance": [],
      "authorship_tag": "ABX9TyPsyZc0BxO0nosyJczkPNnW",
      "include_colab_link": true
    },
    "kernelspec": {
      "name": "python3",
      "display_name": "Python 3"
    },
    "language_info": {
      "name": "python"
    }
  },
  "cells": [
    {
      "cell_type": "markdown",
      "metadata": {
        "id": "view-in-github",
        "colab_type": "text"
      },
      "source": [
        "<a href=\"https://colab.research.google.com/github/sasuarezv/EAFITProg-SS/blob/main/Quiz1_variablesOutputs.ipynb\" target=\"_parent\"><img src=\"https://colab.research.google.com/assets/colab-badge.svg\" alt=\"Open In Colab\"/></a>"
      ]
    },
    {
      "cell_type": "markdown",
      "source": [
        "# Quiz 1 - Definición de variables\n",
        "## Creación de variables\n",
        "Defina una variable ```x``` que contenga un número entero:"
      ],
      "metadata": {
        "id": "jFhK82hvAtjj"
      }
    },
    {
      "cell_type": "code",
      "execution_count": null,
      "metadata": {
        "id": "Y4-7aFB8_Swk"
      },
      "outputs": [],
      "source": []
    },
    {
      "cell_type": "markdown",
      "source": [
        "Defina una variable ```y``` que contenga un número de coma flotante:"
      ],
      "metadata": {
        "id": "UynexUntBX-y"
      }
    },
    {
      "cell_type": "code",
      "source": [],
      "metadata": {
        "id": "nGbuYp_MBcJp"
      },
      "execution_count": null,
      "outputs": []
    },
    {
      "cell_type": "markdown",
      "source": [
        "## Operación con variables\n",
        "Defina una variable ```z``` que contenga el resultado de la suma entre las variables ```x``` e ```y``` asignadas en los pasos anteriores."
      ],
      "metadata": {
        "id": "HHytlhP6BdnH"
      }
    },
    {
      "cell_type": "code",
      "source": [],
      "metadata": {
        "id": "3-TjePObBzM5"
      },
      "execution_count": null,
      "outputs": []
    },
    {
      "cell_type": "markdown",
      "source": [
        "## Salida de datos\n",
        "Use la función vista en clase para presentar resultados al final de la celda."
      ],
      "metadata": {
        "id": "9J0tV2SdB1AA"
      }
    },
    {
      "cell_type": "code",
      "source": [],
      "metadata": {
        "id": "qtsDkAAyB9LQ"
      },
      "execution_count": null,
      "outputs": []
    }
  ]
}